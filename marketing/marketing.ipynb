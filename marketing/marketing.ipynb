{
 "cells": [
  {
   "cell_type": "code",
   "execution_count": 173,
   "metadata": {},
   "outputs": [],
   "source": [
    "import os \n",
    "import numpy as np\n",
    "import pandas as pd\n",
    "\n",
    "import matplotlib.pyplot as plt\n",
    "import seaborn as sns "
   ]
  },
  {
   "cell_type": "markdown",
   "metadata": {},
   "source": [
    "## Veriyi okuma"
   ]
  },
  {
   "cell_type": "code",
   "execution_count": 174,
   "metadata": {},
   "outputs": [
    {
     "data": {
      "text/html": [
       "<div>\n",
       "<style scoped>\n",
       "    .dataframe tbody tr th:only-of-type {\n",
       "        vertical-align: middle;\n",
       "    }\n",
       "\n",
       "    .dataframe tbody tr th {\n",
       "        vertical-align: top;\n",
       "    }\n",
       "\n",
       "    .dataframe thead th {\n",
       "        text-align: right;\n",
       "    }\n",
       "</style>\n",
       "<table border=\"1\" class=\"dataframe\">\n",
       "  <thead>\n",
       "    <tr style=\"text-align: right;\">\n",
       "      <th></th>\n",
       "      <th>Clothing ID</th>\n",
       "      <th>Age</th>\n",
       "      <th>Title</th>\n",
       "      <th>Review Text</th>\n",
       "      <th>Rating</th>\n",
       "      <th>Recommended IND</th>\n",
       "      <th>Positive Feedback Count</th>\n",
       "      <th>Division Name</th>\n",
       "      <th>Department Name</th>\n",
       "      <th>Class Name</th>\n",
       "    </tr>\n",
       "  </thead>\n",
       "  <tbody>\n",
       "    <tr>\n",
       "      <th>1301</th>\n",
       "      <td>1028</td>\n",
       "      <td>35</td>\n",
       "      <td>Great denim</td>\n",
       "      <td>I usually wear a size 28 &amp; the fit was perfect...</td>\n",
       "      <td>5</td>\n",
       "      <td>1</td>\n",
       "      <td>2</td>\n",
       "      <td>General</td>\n",
       "      <td>Bottoms</td>\n",
       "      <td>Jeans</td>\n",
       "    </tr>\n",
       "    <tr>\n",
       "      <th>12577</th>\n",
       "      <td>883</td>\n",
       "      <td>40</td>\n",
       "      <td>Beautiful print</td>\n",
       "      <td>The fabric is soft and the colors are bright. ...</td>\n",
       "      <td>4</td>\n",
       "      <td>1</td>\n",
       "      <td>0</td>\n",
       "      <td>General Petite</td>\n",
       "      <td>Tops</td>\n",
       "      <td>Knits</td>\n",
       "    </tr>\n",
       "    <tr>\n",
       "      <th>5811</th>\n",
       "      <td>1056</td>\n",
       "      <td>62</td>\n",
       "      <td>Small!</td>\n",
       "      <td>I finally ordered this at this incredible mark...</td>\n",
       "      <td>3</td>\n",
       "      <td>0</td>\n",
       "      <td>3</td>\n",
       "      <td>General</td>\n",
       "      <td>Bottoms</td>\n",
       "      <td>Pants</td>\n",
       "    </tr>\n",
       "    <tr>\n",
       "      <th>16174</th>\n",
       "      <td>936</td>\n",
       "      <td>36</td>\n",
       "      <td>NaN</td>\n",
       "      <td>I love this sweater. looks great with leggings...</td>\n",
       "      <td>5</td>\n",
       "      <td>1</td>\n",
       "      <td>0</td>\n",
       "      <td>General Petite</td>\n",
       "      <td>Tops</td>\n",
       "      <td>Sweaters</td>\n",
       "    </tr>\n",
       "  </tbody>\n",
       "</table>\n",
       "</div>"
      ],
      "text/plain": [
       "       Clothing ID  Age            Title  \\\n",
       "1301          1028   35      Great denim   \n",
       "12577          883   40  Beautiful print   \n",
       "5811          1056   62           Small!   \n",
       "16174          936   36              NaN   \n",
       "\n",
       "                                             Review Text  Rating  \\\n",
       "1301   I usually wear a size 28 & the fit was perfect...       5   \n",
       "12577  The fabric is soft and the colors are bright. ...       4   \n",
       "5811   I finally ordered this at this incredible mark...       3   \n",
       "16174  I love this sweater. looks great with leggings...       5   \n",
       "\n",
       "       Recommended IND  Positive Feedback Count   Division Name  \\\n",
       "1301                 1                        2         General   \n",
       "12577                1                        0  General Petite   \n",
       "5811                 0                        3         General   \n",
       "16174                1                        0  General Petite   \n",
       "\n",
       "      Department Name Class Name  \n",
       "1301          Bottoms      Jeans  \n",
       "12577            Tops      Knits  \n",
       "5811          Bottoms      Pants  \n",
       "16174            Tops   Sweaters  "
      ]
     },
     "execution_count": 174,
     "metadata": {},
     "output_type": "execute_result"
    }
   ],
   "source": [
    "data=pd.read_csv(\"Womens Clothing E-Commerce Reviews.csv\",index_col=0)\n",
    "data.sample(4)"
   ]
  },
  {
   "cell_type": "code",
   "execution_count": 175,
   "metadata": {},
   "outputs": [
    {
     "name": "stdout",
     "output_type": "stream",
     "text": [
      "<class 'pandas.core.frame.DataFrame'>\n",
      "Int64Index: 23486 entries, 0 to 23485\n",
      "Data columns (total 10 columns):\n",
      " #   Column                   Non-Null Count  Dtype \n",
      "---  ------                   --------------  ----- \n",
      " 0   Clothing ID              23486 non-null  int64 \n",
      " 1   Age                      23486 non-null  int64 \n",
      " 2   Title                    19676 non-null  object\n",
      " 3   Review Text              22641 non-null  object\n",
      " 4   Rating                   23486 non-null  int64 \n",
      " 5   Recommended IND          23486 non-null  int64 \n",
      " 6   Positive Feedback Count  23486 non-null  int64 \n",
      " 7   Division Name            23472 non-null  object\n",
      " 8   Department Name          23472 non-null  object\n",
      " 9   Class Name               23472 non-null  object\n",
      "dtypes: int64(5), object(5)\n",
      "memory usage: 2.0+ MB\n"
     ]
    },
    {
     "data": {
      "text/html": [
       "<div>\n",
       "<style scoped>\n",
       "    .dataframe tbody tr th:only-of-type {\n",
       "        vertical-align: middle;\n",
       "    }\n",
       "\n",
       "    .dataframe tbody tr th {\n",
       "        vertical-align: top;\n",
       "    }\n",
       "\n",
       "    .dataframe thead th {\n",
       "        text-align: right;\n",
       "    }\n",
       "</style>\n",
       "<table border=\"1\" class=\"dataframe\">\n",
       "  <thead>\n",
       "    <tr style=\"text-align: right;\">\n",
       "      <th></th>\n",
       "      <th>Clothing ID</th>\n",
       "      <th>Age</th>\n",
       "      <th>Rating</th>\n",
       "      <th>Recommended IND</th>\n",
       "      <th>Positive Feedback Count</th>\n",
       "    </tr>\n",
       "  </thead>\n",
       "  <tbody>\n",
       "    <tr>\n",
       "      <th>count</th>\n",
       "      <td>23486.000000</td>\n",
       "      <td>23486.000000</td>\n",
       "      <td>23486.000000</td>\n",
       "      <td>23486.000000</td>\n",
       "      <td>23486.000000</td>\n",
       "    </tr>\n",
       "    <tr>\n",
       "      <th>mean</th>\n",
       "      <td>918.118709</td>\n",
       "      <td>43.198544</td>\n",
       "      <td>4.196032</td>\n",
       "      <td>0.822362</td>\n",
       "      <td>2.535936</td>\n",
       "    </tr>\n",
       "    <tr>\n",
       "      <th>std</th>\n",
       "      <td>203.298980</td>\n",
       "      <td>12.279544</td>\n",
       "      <td>1.110031</td>\n",
       "      <td>0.382216</td>\n",
       "      <td>5.702202</td>\n",
       "    </tr>\n",
       "    <tr>\n",
       "      <th>min</th>\n",
       "      <td>0.000000</td>\n",
       "      <td>18.000000</td>\n",
       "      <td>1.000000</td>\n",
       "      <td>0.000000</td>\n",
       "      <td>0.000000</td>\n",
       "    </tr>\n",
       "    <tr>\n",
       "      <th>25%</th>\n",
       "      <td>861.000000</td>\n",
       "      <td>34.000000</td>\n",
       "      <td>4.000000</td>\n",
       "      <td>1.000000</td>\n",
       "      <td>0.000000</td>\n",
       "    </tr>\n",
       "    <tr>\n",
       "      <th>50%</th>\n",
       "      <td>936.000000</td>\n",
       "      <td>41.000000</td>\n",
       "      <td>5.000000</td>\n",
       "      <td>1.000000</td>\n",
       "      <td>1.000000</td>\n",
       "    </tr>\n",
       "    <tr>\n",
       "      <th>75%</th>\n",
       "      <td>1078.000000</td>\n",
       "      <td>52.000000</td>\n",
       "      <td>5.000000</td>\n",
       "      <td>1.000000</td>\n",
       "      <td>3.000000</td>\n",
       "    </tr>\n",
       "    <tr>\n",
       "      <th>max</th>\n",
       "      <td>1205.000000</td>\n",
       "      <td>99.000000</td>\n",
       "      <td>5.000000</td>\n",
       "      <td>1.000000</td>\n",
       "      <td>122.000000</td>\n",
       "    </tr>\n",
       "  </tbody>\n",
       "</table>\n",
       "</div>"
      ],
      "text/plain": [
       "        Clothing ID           Age        Rating  Recommended IND  \\\n",
       "count  23486.000000  23486.000000  23486.000000     23486.000000   \n",
       "mean     918.118709     43.198544      4.196032         0.822362   \n",
       "std      203.298980     12.279544      1.110031         0.382216   \n",
       "min        0.000000     18.000000      1.000000         0.000000   \n",
       "25%      861.000000     34.000000      4.000000         1.000000   \n",
       "50%      936.000000     41.000000      5.000000         1.000000   \n",
       "75%     1078.000000     52.000000      5.000000         1.000000   \n",
       "max     1205.000000     99.000000      5.000000         1.000000   \n",
       "\n",
       "       Positive Feedback Count  \n",
       "count             23486.000000  \n",
       "mean                  2.535936  \n",
       "std                   5.702202  \n",
       "min                   0.000000  \n",
       "25%                   0.000000  \n",
       "50%                   1.000000  \n",
       "75%                   3.000000  \n",
       "max                 122.000000  "
      ]
     },
     "execution_count": 175,
     "metadata": {},
     "output_type": "execute_result"
    }
   ],
   "source": [
    "data.info()\n",
    "data.describe()"
   ]
  },
  {
   "cell_type": "markdown",
   "metadata": {},
   "source": [
    "Amacımız null verilerle nasıl başa çıkarız. \n",
    "Bu nedenle verimizde yeterince boşluk olmadığından, bazı review text'leri rastgele biz boşaltacağız.  "
   ]
  },
  {
   "cell_type": "code",
   "execution_count": 176,
   "metadata": {},
   "outputs": [],
   "source": [
    "#for kernel\n",
    "np.random.seed(42)\n",
    "\n",
    "#Satırların yüzde kaçını boşaltacağız\n",
    "percentage=0.27\n",
    "\n",
    "#Kaç satırı boşaltıcağız\n",
    "num_rows= int(percentage*len(data))\n",
    "\n",
    "#Rastgele seçilen satırları belirleme\n",
    "random_rows=data.sample(n=num_rows)\n",
    "\n",
    "#Seçilen rastgele satırları doldurma\n",
    "data.loc[random_rows.index,\"Review Text\"]= \"\""
   ]
  },
  {
   "cell_type": "code",
   "execution_count": 177,
   "metadata": {},
   "outputs": [],
   "source": [
    "#Aynı olan verileri silme (Drop Duplicates)\n",
    "\n",
    "data=data.drop_duplicates().copy()"
   ]
  },
  {
   "cell_type": "code",
   "execution_count": 178,
   "metadata": {},
   "outputs": [
    {
     "data": {
      "text/plain": [
       "(23461, 10)"
      ]
     },
     "execution_count": 178,
     "metadata": {},
     "output_type": "execute_result"
    }
   ],
   "source": [
    "data.shape"
   ]
  },
  {
   "cell_type": "code",
   "execution_count": 179,
   "metadata": {},
   "outputs": [
    {
     "data": {
      "text/plain": [
       "['Title', 'Review Text', 'Division Name', 'Department Name', 'Class Name']"
      ]
     },
     "execution_count": 179,
     "metadata": {},
     "output_type": "execute_result"
    }
   ],
   "source": [
    "# Kategorik kolonları belirleme\n",
    "cat_sutun= [sutun for sutun in data.columns if data[sutun].dtype == 'object']\n",
    "cat_sutun\n"
   ]
  },
  {
   "cell_type": "code",
   "execution_count": 180,
   "metadata": {},
   "outputs": [
    {
     "data": {
      "text/plain": [
       "['Clothing ID', 'Age', 'Rating', 'Recommended IND', 'Positive Feedback Count']"
      ]
     },
     "execution_count": 180,
     "metadata": {},
     "output_type": "execute_result"
    }
   ],
   "source": [
    "#Numeric kolonları belirleme\n",
    "num_sutun=[sutun for sutun in data.columns if data[sutun].dtype !='object']\n",
    "num_sutun"
   ]
  },
  {
   "cell_type": "code",
   "execution_count": 181,
   "metadata": {},
   "outputs": [],
   "source": [
    "#Burada da feature tiplerini belirleyip, ileride Contionus ve Categoric feature'lara farklı şekilde müdahale edeceğiz.\n",
    "\n",
    "\n",
    "abt_data_types = {\n",
    "    \"Clothing ID\": \"not-sure\",\n",
    "    \"Age\": \"continuous\",\n",
    "    \"Title\": \"text\",\n",
    "    \"Review Text\": \"text\",\n",
    "    \"Rating\": \"categorical\",\n",
    "    \"Recommended IND\": \"not-sure\",\n",
    "    \"Positive Feedback Count\": \"continuous\",\n",
    "    \"Division Name\": \"categorical\",\n",
    "    \"Department Name\": \"categorical\",\n",
    "    \"Class Name\": \"categorical\"\n",
    "}"
   ]
  },
  {
   "cell_type": "code",
   "execution_count": 182,
   "metadata": {},
   "outputs": [
    {
     "name": "stdout",
     "output_type": "stream",
     "text": [
      "1206\n"
     ]
    }
   ],
   "source": [
    "#Şimdi emin olmadıklarımızı inceleyelim.\n",
    "print(data[\"Clothing ID\"].nunique())\n",
    "\n",
    "#23461 verinin içerisinde 1206lık farklı değer var. Kategorik olabilir.\n",
    "\n",
    "abt_data_types[\"Clothing ID\"]=\"categorical\"\n"
   ]
  },
  {
   "cell_type": "code",
   "execution_count": 183,
   "metadata": {},
   "outputs": [
    {
     "name": "stdout",
     "output_type": "stream",
     "text": [
      "1    19289\n",
      "0     4172\n",
      "Name: Recommended IND, dtype: int64\n"
     ]
    }
   ],
   "source": [
    "#Ardından ikinci emin olmadığımız değişkene bakalım.\n",
    "\n",
    "print(data[\"Recommended IND\"].value_counts())\n",
    "\n",
    "#Bunun da kategorik bir çıktıya sahip olduğunu gördükten sonra Data Analysis Report kısmını bitirdik.\n",
    "\n",
    "abt_data_types[\"Recommended IND\"]=\"categorical\""
   ]
  },
  {
   "cell_type": "code",
   "execution_count": 184,
   "metadata": {},
   "outputs": [
    {
     "data": {
      "image/png": "[encoded data removed]",
      "text/plain": [
       "<Figure size 640x480 with 1 Axes>"
      ]
     },
     "metadata": {},
     "output_type": "display_data"
    },
    {
     "data": {
      "image/png": "[encoded data removed]",
      "text/plain": [
       "<Figure size 640x480 with 1 Axes>"
      ]
     },
     "metadata": {},
     "output_type": "display_data"
    },
    {
     "data": {
      "image/png": "[encoded data removed]",
      "text/plain": [
       "<Figure size 640x480 with 1 Axes>"
      ]
     },
     "metadata": {},
     "output_type": "display_data"
    },
    {
     "data": {
      "image/png": "[encoded data removed]",
      "text/plain": [
       "<Figure size 640x480 with 1 Axes>"
      ]
     },
     "metadata": {},
     "output_type": "display_data"
    },
    {
     "data": {
      "image/png": "[encoded data removed]",
      "text/plain": [
       "<Figure size 640x480 with 1 Axes>"
      ]
     },
     "metadata": {},
     "output_type": "display_data"
    },
    {
     "data": {
      "image/png": "[encoded data removed]",
      "text/plain": [
       "<Figure size 640x480 with 1 Axes>"
      ]
     },
     "metadata": {},
     "output_type": "display_data"
    }
   ],
   "source": [
    "#Şimdi görselleştirelim\n",
    "\n",
    "plot_color=\"#6DBD25\"\n",
    "\n",
    "for column,dtype in abt_data_types.items():\n",
    "    if dtype=='categorical':\n",
    "        plt.figure(num=f'{column}')\n",
    "        data[column].value_counts().plot(kind='barh',color=plot_color)\n",
    "        plt.title(f'Bar Plot for {column}')\n",
    "        plt.xlabel(column)\n",
    "        plt.ylabel('Count')\n",
    "\n",
    "\n",
    "        plt.xticks(rotation=45)\n",
    "\n",
    "        plt.show()"
   ]
  },
  {
   "cell_type": "code",
   "execution_count": 185,
   "metadata": {},
   "outputs": [
    {
     "data": {
      "image/png": "[encoded data removed]",
      "text/plain": [
       "<Figure size 640x480 with 1 Axes>"
      ]
     },
     "metadata": {},
     "output_type": "display_data"
    },
    {
     "data": {
      "image/png": "[encoded data removed]",
      "text/plain": [
       "<Figure size 640x480 with 1 Axes>"
      ]
     },
     "metadata": {},
     "output_type": "display_data"
    }
   ],
   "source": [
    "#Şimdi continuous columns için visualize edelim.\n",
    "#continuous değerleri daha rahat görmek için histogramdan yararlanacağız.\n",
    "\n",
    "for column, dtype in abt_data_types.items():\n",
    "\n",
    "    if dtype==\"continuous\":\n",
    "        plt.figure(num=f'* {column} *')  \n",
    "        data[column].plot.hist(color=plot_color)\n",
    "        plt.title(f'Bar Plot for: *{column}*')\n",
    "        plt.xlabel(column)\n",
    "        plt.ylabel('Frequency')\n",
    "            \n",
    "        plt.xticks(rotation=45)\n",
    "\n",
    "        plt.show()"
   ]
  },
  {
   "cell_type": "markdown",
   "metadata": {},
   "source": [
    "Normalde Age histogram grafiğinde left skew var. Ancak Domain bilgisi (alan bilgisi) işin içine girdiğinde bunun gayet normal olduğunu herhangi bir işlem yapılmasının gerekmediğini düşünüyoruz."
   ]
  },
  {
   "cell_type": "markdown",
   "metadata": {},
   "source": [
    "# Data Quality Report"
   ]
  },
  {
   "cell_type": "markdown",
   "metadata": {},
   "source": [
    "Kitabı bir yaklaşım olup aşağıdaki işlemleri içerir. Her kolon için aşağıdaki özelliklerin çıkmasına ve bize daha fazla fikir vermesine olanak sağlar.\n",
    "\n",
    "### For continious variables\n",
    "\n",
    "-minimum\n",
    "\n",
    "-1st quartile\n",
    "\n",
    "-mean\n",
    "\n",
    "-median\n",
    "\n",
    "-3rd quartile\n",
    "\n",
    "-maximum\n",
    "\n",
    "-standard deviation\n",
    "\n",
    "-total number of instances\n",
    "\n",
    "-% of instances in ABT that are missing a value\n",
    "\n",
    "-cardinality (# of unique values in that feature)\n",
    "\n",
    "\n",
    "\n",
    "### For categorical variables\n",
    "\n",
    "-mode 1 (most frequent value)\n",
    "\n",
    "-raw frequency of mode 1\n",
    "\n",
    "-% frequency of mode 1\n",
    "\n",
    "-mode 2 (2nd most frequent value)\n",
    "\n",
    "-raw frequency of mode 2\n",
    "\n",
    "-% frequency of mode 2\n",
    "\n",
    "-% of instances in ABT that are missing a value\n",
    "\n",
    "-cardinality"
   ]
  },
  {
   "cell_type": "code",
   "execution_count": 186,
   "metadata": {},
   "outputs": [],
   "source": [
    "def featureWise_dqr(a_series,feature,data_type,hassasiyet=2):\n",
    "\n",
    "    \"\"\"\n",
    "    a_series: bir DataFrame\n",
    "    data_type : continuous\n",
    "    hassasiyet : round fonksiyonunnda kullandığımız hassasiyet değerimiz\n",
    "    \"\"\"\n",
    "\n",
    "    report_dict = dict() #boş bir dict.\n",
    "    report_dict[\"feature\"]=feature\n",
    "\n",
    "\n",
    "    #Contionus kolonlara sahip olanlar için\n",
    "\n",
    "    if data_type == \"continuous\":\n",
    "        print(\"continuous değerler hesaplanıyor ...\")\n",
    "        report_dict[\"missing_percent\"] = round(len(a_series[a_series.isna()]) / len(a_series) * 100, hassasiyet) #bir kolondaki boş değerler\n",
    "        report_dict[\"cardinality\"] = a_series.nunique() #cardinality= bir kolondaki eşsiz verilen sayısıdır.\n",
    "        report_dict[\"min\"] = round(a_series.min(),hassasiyet)\n",
    "        report_dict[\"1st_q\"] = round(a_series.quantile([.25]).values[0],hassasiyet) #ilk çeyreklik\n",
    "        report_dict[\"mean\"] = round(a_series.mean(),hassasiyet)\n",
    "        report_dict[\"median\"] = round(a_series.median(),hassasiyet)\n",
    "        report_dict[\"3rd_q\"] = round(a_series.quantile([.75]).values[0],hassasiyet) #son çeyreklik\n",
    "        report_dict[\"max\"] = round(a_series.max(),hassasiyet)\n",
    "        report_dict[\"std\"] = round(a_series.std(),hassasiyet)\n",
    "\n",
    "    #Şimdi geldik bi sonraki kolon tipimiz olan : categorical kolonlara \n",
    "    elif data_type == \"categorical\":\n",
    "        print(\"categorical değerler hesaplanıyor ...\")\n",
    "        report_dict[\"missing_percent\"] = round(len(a_series[a_series.isna()]) / len(a_series) * 100, hassasiyet)\n",
    "        report_dict[\"cardinality\"] = a_series.nunique()\n",
    "        report_dict[\"mode1\"] = a_series.mode().values[0] # en çok tekrar eden değer  \n",
    "        report_dict[\"mode1_frequency_raw\"]  = a_series.value_counts().iloc[0] #en çok tekrar eden değerin sıklığı\n",
    "        report_dict[\"mode1_freq_perc\"] = round((report_dict[\"mode1_frequency_raw\"]/len(a_series)*100),hassasiyet) #en çok tekrar eden değerin yüzdesi\n",
    "\n",
    "        report_dict[\"mode2\"] = a_series.value_counts().index[1] #en çok tekrar eden 2. değer  \n",
    "        report_dict[\"mode2_freq_raw\"]  = a_series.value_counts().iloc[1] if report_dict[\"cardinality\"] > 1 else np.nan  # en çok tekrar eden 2.değerin sıklığı\n",
    "        report_dict[\"mode2_freq_perc\"] = round((report_dict[\"mode2_freq_raw\"]/len(a_series)*100),hassasiyet) #en çok tekrar eden 2. değerin yüzdesi\n",
    "\n",
    "    \n",
    "    #Son kolon tipimiz olan text kolonlarımıza:\n",
    "    elif data_type == \"text\":\n",
    "        token_counts = [len(x.split()) if type(x) is str else 0 for x in a_series] # kelime sayısı (boşluklarla ayırıyoruz.)\n",
    "        char_counts = [len(x) if type(x) is str else 0 for x in a_series] #karakter sayısı \n",
    "\n",
    "        report_dict[\"missing_percent\"] = round(sum(1 for value in char_counts if value < 2) / len(a_series) * 100, hassasiyet) \n",
    "        report_dict[\"mean_tok_count\"]    = round(np.mean(token_counts), hassasiyet) #ortalama kelime sayısı\n",
    "        report_dict[\"mean_char_count\"]    = round(np.mean(char_counts), hassasiyet) #ortalama karakter sayısı\n",
    "        report_dict[\"std_token_count\"]    = round(np.std(token_counts), hassasiyet) #kelime sayısının standart sapması\n",
    "        report_dict[\"std_char_count\"]    = round(np.std(char_counts), hassasiyet) #karakter sayısının standart sapması\n",
    "        report_dict[\"max_tok_count\"]    = round(np.max(token_counts), hassasiyet) # en çok kullanılan kelime sayısı\n",
    "        report_dict[\"max_char_count\"]    = round(np.max(char_counts), hassasiyet) # en çok kullanılan karakter sayısı\n",
    "\n",
    "\n",
    "        report_dict[\"tok_count_1st_q\"]  = np.quantile(token_counts, 0.25) \n",
    "        report_dict[\"tok_count_2nd_q\"]  = np.quantile(token_counts, 0.5)\n",
    "        report_dict[\"tok_count_3nd_q\"]  = np.quantile(token_counts, 0.75)\n",
    "\n",
    "    return report_dict"
   ]
  },
  {
   "cell_type": "code",
   "execution_count": 187,
   "metadata": {},
   "outputs": [],
   "source": [
    "#Şimdi yukarıdaki DataFrame çevirmek için fonksiyon yazalım.\n",
    "\n",
    "def df_wise_dqr(a_df,abt_data_types):\n",
    "\n",
    "    \"\"\"Hesaplamaya çalıştığımız Data Quality Report'un bir DataFrame'e çevirişmiş halidir..\"\"\"\n",
    "\n",
    "    #Boş listler oluşturma.\n",
    "    categorical_dqr= list()\n",
    "    continious_dqr = list()\n",
    "    texts_dqr = list()\n",
    "\n",
    "    for feature, data_type in abt_data_types.items():\n",
    "        dqr_of_feature=featureWise_dqr(a_df[feature],feature,data_type)\n",
    "\n",
    "        if data_type == \"categorical\":\n",
    "            categorical_dqr.append(dqr_of_feature)\n",
    "            print(\"e\")\n",
    "        \n",
    "        elif data_type == \"continuous\":\n",
    "            continious_dqr.append(dqr_of_feature)\n",
    "            \n",
    "        elif data_type == \"text\":\n",
    "            texts_dqr.append(dqr_of_feature)\n",
    "            print(\"f\")\n",
    "\n",
    "        \n",
    "    return {\"categorical\": pd.DataFrame(categorical_dqr),\n",
    "                \"continuous\": pd.DataFrame(continious_dqr),\n",
    "                \"text\": pd.DataFrame(texts_dqr)}"
   ]
  },
  {
   "cell_type": "code",
   "execution_count": 188,
   "metadata": {},
   "outputs": [
    {
     "name": "stdout",
     "output_type": "stream",
     "text": [
      "categorical değerler hesaplanıyor ...\n",
      "e\n",
      "continuous değerler hesaplanıyor ...\n",
      "f\n",
      "f\n",
      "categorical değerler hesaplanıyor ...\n",
      "e\n",
      "categorical değerler hesaplanıyor ...\n",
      "e\n",
      "continuous değerler hesaplanıyor ...\n",
      "categorical değerler hesaplanıyor ...\n",
      "e\n",
      "categorical değerler hesaplanıyor ...\n",
      "e\n",
      "categorical değerler hesaplanıyor ...\n",
      "e\n"
     ]
    }
   ],
   "source": [
    "data_Quality_report= df_wise_dqr(data,abt_data_types)"
   ]
  },
  {
   "cell_type": "code",
   "execution_count": 189,
   "metadata": {},
   "outputs": [
    {
     "data": {
      "text/html": [
       "<div>\n",
       "<style scoped>\n",
       "    .dataframe tbody tr th:only-of-type {\n",
       "        vertical-align: middle;\n",
       "    }\n",
       "\n",
       "    .dataframe tbody tr th {\n",
       "        vertical-align: top;\n",
       "    }\n",
       "\n",
       "    .dataframe thead th {\n",
       "        text-align: right;\n",
       "    }\n",
       "</style>\n",
       "<table border=\"1\" class=\"dataframe\">\n",
       "  <thead>\n",
       "    <tr style=\"text-align: right;\">\n",
       "      <th></th>\n",
       "      <th>feature</th>\n",
       "      <th>missing_percent</th>\n",
       "      <th>cardinality</th>\n",
       "      <th>mode1</th>\n",
       "      <th>mode1_frequency_raw</th>\n",
       "      <th>mode1_freq_perc</th>\n",
       "      <th>mode2</th>\n",
       "      <th>mode2_freq_raw</th>\n",
       "      <th>mode2_freq_perc</th>\n",
       "    </tr>\n",
       "  </thead>\n",
       "  <tbody>\n",
       "    <tr>\n",
       "      <th>0</th>\n",
       "      <td>Clothing ID</td>\n",
       "      <td>0.00</td>\n",
       "      <td>1206</td>\n",
       "      <td>1078</td>\n",
       "      <td>1022</td>\n",
       "      <td>4.36</td>\n",
       "      <td>862</td>\n",
       "      <td>798</td>\n",
       "      <td>3.40</td>\n",
       "    </tr>\n",
       "    <tr>\n",
       "      <th>1</th>\n",
       "      <td>Rating</td>\n",
       "      <td>0.00</td>\n",
       "      <td>5</td>\n",
       "      <td>5</td>\n",
       "      <td>13108</td>\n",
       "      <td>55.87</td>\n",
       "      <td>4</td>\n",
       "      <td>5075</td>\n",
       "      <td>21.63</td>\n",
       "    </tr>\n",
       "    <tr>\n",
       "      <th>2</th>\n",
       "      <td>Recommended IND</td>\n",
       "      <td>0.00</td>\n",
       "      <td>2</td>\n",
       "      <td>1</td>\n",
       "      <td>19289</td>\n",
       "      <td>82.22</td>\n",
       "      <td>0</td>\n",
       "      <td>4172</td>\n",
       "      <td>17.78</td>\n",
       "    </tr>\n",
       "    <tr>\n",
       "      <th>3</th>\n",
       "      <td>Division Name</td>\n",
       "      <td>0.06</td>\n",
       "      <td>3</td>\n",
       "      <td>General</td>\n",
       "      <td>13834</td>\n",
       "      <td>58.97</td>\n",
       "      <td>General Petite</td>\n",
       "      <td>8111</td>\n",
       "      <td>34.57</td>\n",
       "    </tr>\n",
       "    <tr>\n",
       "      <th>4</th>\n",
       "      <td>Department Name</td>\n",
       "      <td>0.06</td>\n",
       "      <td>6</td>\n",
       "      <td>Tops</td>\n",
       "      <td>10451</td>\n",
       "      <td>44.55</td>\n",
       "      <td>Dresses</td>\n",
       "      <td>6314</td>\n",
       "      <td>26.91</td>\n",
       "    </tr>\n",
       "    <tr>\n",
       "      <th>5</th>\n",
       "      <td>Class Name</td>\n",
       "      <td>0.06</td>\n",
       "      <td>20</td>\n",
       "      <td>Dresses</td>\n",
       "      <td>6314</td>\n",
       "      <td>26.91</td>\n",
       "      <td>Knits</td>\n",
       "      <td>4831</td>\n",
       "      <td>20.59</td>\n",
       "    </tr>\n",
       "  </tbody>\n",
       "</table>\n",
       "</div>"
      ],
      "text/plain": [
       "           feature  missing_percent  cardinality    mode1  \\\n",
       "0      Clothing ID             0.00         1206     1078   \n",
       "1           Rating             0.00            5        5   \n",
       "2  Recommended IND             0.00            2        1   \n",
       "3    Division Name             0.06            3  General   \n",
       "4  Department Name             0.06            6     Tops   \n",
       "5       Class Name             0.06           20  Dresses   \n",
       "\n",
       "   mode1_frequency_raw  mode1_freq_perc           mode2  mode2_freq_raw  \\\n",
       "0                 1022             4.36             862             798   \n",
       "1                13108            55.87               4            5075   \n",
       "2                19289            82.22               0            4172   \n",
       "3                13834            58.97  General Petite            8111   \n",
       "4                10451            44.55         Dresses            6314   \n",
       "5                 6314            26.91           Knits            4831   \n",
       "\n",
       "   mode2_freq_perc  \n",
       "0             3.40  \n",
       "1            21.63  \n",
       "2            17.78  \n",
       "3            34.57  \n",
       "4            26.91  \n",
       "5            20.59  "
      ]
     },
     "execution_count": 189,
     "metadata": {},
     "output_type": "execute_result"
    }
   ],
   "source": [
    "data_Quality_report[\"categorical\"]"
   ]
  },
  {
   "cell_type": "code",
   "execution_count": 190,
   "metadata": {},
   "outputs": [
    {
     "data": {
      "text/html": [
       "<div>\n",
       "<style scoped>\n",
       "    .dataframe tbody tr th:only-of-type {\n",
       "        vertical-align: middle;\n",
       "    }\n",
       "\n",
       "    .dataframe tbody tr th {\n",
       "        vertical-align: top;\n",
       "    }\n",
       "\n",
       "    .dataframe thead th {\n",
       "        text-align: right;\n",
       "    }\n",
       "</style>\n",
       "<table border=\"1\" class=\"dataframe\">\n",
       "  <thead>\n",
       "    <tr style=\"text-align: right;\">\n",
       "      <th></th>\n",
       "      <th>feature</th>\n",
       "      <th>missing_percent</th>\n",
       "      <th>cardinality</th>\n",
       "      <th>min</th>\n",
       "      <th>1st_q</th>\n",
       "      <th>mean</th>\n",
       "      <th>median</th>\n",
       "      <th>3rd_q</th>\n",
       "      <th>max</th>\n",
       "      <th>std</th>\n",
       "    </tr>\n",
       "  </thead>\n",
       "  <tbody>\n",
       "    <tr>\n",
       "      <th>0</th>\n",
       "      <td>Age</td>\n",
       "      <td>0.0</td>\n",
       "      <td>77</td>\n",
       "      <td>18</td>\n",
       "      <td>34.0</td>\n",
       "      <td>43.20</td>\n",
       "      <td>41.0</td>\n",
       "      <td>52.0</td>\n",
       "      <td>99</td>\n",
       "      <td>12.28</td>\n",
       "    </tr>\n",
       "    <tr>\n",
       "      <th>1</th>\n",
       "      <td>Positive Feedback Count</td>\n",
       "      <td>0.0</td>\n",
       "      <td>82</td>\n",
       "      <td>0</td>\n",
       "      <td>0.0</td>\n",
       "      <td>2.54</td>\n",
       "      <td>1.0</td>\n",
       "      <td>3.0</td>\n",
       "      <td>122</td>\n",
       "      <td>5.70</td>\n",
       "    </tr>\n",
       "  </tbody>\n",
       "</table>\n",
       "</div>"
      ],
      "text/plain": [
       "                   feature  missing_percent  cardinality  min  1st_q   mean  \\\n",
       "0                      Age              0.0           77   18   34.0  43.20   \n",
       "1  Positive Feedback Count              0.0           82    0    0.0   2.54   \n",
       "\n",
       "   median  3rd_q  max    std  \n",
       "0    41.0   52.0   99  12.28  \n",
       "1     1.0    3.0  122   5.70  "
      ]
     },
     "execution_count": 190,
     "metadata": {},
     "output_type": "execute_result"
    }
   ],
   "source": [
    "data_continuous=data_Quality_report[\"continuous\"]\n",
    "data_continuous"
   ]
  },
  {
   "cell_type": "code",
   "execution_count": 191,
   "metadata": {},
   "outputs": [
    {
     "data": {
      "text/html": [
       "<div>\n",
       "<style scoped>\n",
       "    .dataframe tbody tr th:only-of-type {\n",
       "        vertical-align: middle;\n",
       "    }\n",
       "\n",
       "    .dataframe tbody tr th {\n",
       "        vertical-align: top;\n",
       "    }\n",
       "\n",
       "    .dataframe thead th {\n",
       "        text-align: right;\n",
       "    }\n",
       "</style>\n",
       "<table border=\"1\" class=\"dataframe\">\n",
       "  <thead>\n",
       "    <tr style=\"text-align: right;\">\n",
       "      <th></th>\n",
       "      <th>feature</th>\n",
       "      <th>missing_percent</th>\n",
       "      <th>mean_tok_count</th>\n",
       "      <th>mean_char_count</th>\n",
       "      <th>std_token_count</th>\n",
       "      <th>std_char_count</th>\n",
       "      <th>max_tok_count</th>\n",
       "      <th>max_char_count</th>\n",
       "      <th>tok_count_1st_q</th>\n",
       "      <th>tok_count_2nd_q</th>\n",
       "      <th>tok_count_3nd_q</th>\n",
       "    </tr>\n",
       "  </thead>\n",
       "  <tbody>\n",
       "    <tr>\n",
       "      <th>0</th>\n",
       "      <td>Title</td>\n",
       "      <td>16.14</td>\n",
       "      <td>2.80</td>\n",
       "      <td>16.02</td>\n",
       "      <td>2.05</td>\n",
       "      <td>11.24</td>\n",
       "      <td>12</td>\n",
       "      <td>52</td>\n",
       "      <td>2.0</td>\n",
       "      <td>3.0</td>\n",
       "      <td>4.0</td>\n",
       "    </tr>\n",
       "    <tr>\n",
       "      <th>1</th>\n",
       "      <td>Review Text</td>\n",
       "      <td>29.64</td>\n",
       "      <td>42.36</td>\n",
       "      <td>217.23</td>\n",
       "      <td>36.49</td>\n",
       "      <td>185.85</td>\n",
       "      <td>115</td>\n",
       "      <td>508</td>\n",
       "      <td>0.0</td>\n",
       "      <td>40.0</td>\n",
       "      <td>75.0</td>\n",
       "    </tr>\n",
       "  </tbody>\n",
       "</table>\n",
       "</div>"
      ],
      "text/plain": [
       "       feature  missing_percent  mean_tok_count  mean_char_count  \\\n",
       "0        Title            16.14            2.80            16.02   \n",
       "1  Review Text            29.64           42.36           217.23   \n",
       "\n",
       "   std_token_count  std_char_count  max_tok_count  max_char_count  \\\n",
       "0             2.05           11.24             12              52   \n",
       "1            36.49          185.85            115             508   \n",
       "\n",
       "   tok_count_1st_q  tok_count_2nd_q  tok_count_3nd_q  \n",
       "0              2.0              3.0              4.0  \n",
       "1              0.0             40.0             75.0  "
      ]
     },
     "execution_count": 191,
     "metadata": {},
     "output_type": "execute_result"
    }
   ],
   "source": [
    "data_Quality_report[\"text\"]\n",
    "\n",
    "#Çok uzun cümleler genellikle olumlu cümleler olarak baz alabiliriz."
   ]
  },
  {
   "cell_type": "markdown",
   "metadata": {},
   "source": [
    "## Data Quality Plan \n",
    "\n",
    "Veri kalitesi planında, geçerli veri hatalarından kaynaklanan bazı sorunları çözmeye/raporlamaya çalışacağız. Geçerli verilerdeki sorunlar, alana özgü özellikler, kötü dağıtılmış örnekleme, bazı örnek kümeleri için bazı özelliklerin toplanamaması, şişman parmaklar vb. nedenlerden kaynaklanabilirken, geçersiz verilerle ilgili sorunlar çoğunlukla ABT'nin bileşimi sırasında üretim hatasından kaynaklanmaktadır.\n",
    "\n",
    "\n",
    "Geçersiz veri hatalarını ele almanın makul bir yolu ABT'yi yeniden üretmektir, ancak bizim durumumuzda ABT'yi yeniden üretme şansımız yoktur. Bu nedenle, geçersiz veri hatalarını ele alma stratejim, bunları basitçe atmak olacaktır.\n"
   ]
  },
  {
   "cell_type": "code",
   "execution_count": 192,
   "metadata": {},
   "outputs": [],
   "source": [
    "#Eksik verileri kaldırma.\n",
    "\n",
    "# -Yanlış silme işlemi-\n",
    "data[\"Review Text\"] =data[\"Review Text\"].fillna(\"\")"
   ]
  },
  {
   "cell_type": "code",
   "execution_count": 193,
   "metadata": {},
   "outputs": [],
   "source": [
    "#Ancak doğrusu bu olmamlı.\n",
    "data = data[data.apply(lambda x: False if len(x[\"Review Text\"]) < 1 else True, axis=1)].copy()\n",
    "\n",
    "#Çünkü \" \" ,\"  \"  bu tarz veriler de string sayıldığı için bunları hesaba katamıyoruz."
   ]
  },
  {
   "cell_type": "code",
   "execution_count": 194,
   "metadata": {},
   "outputs": [
    {
     "data": {
      "text/plain": [
       "(16506, 10)"
      ]
     },
     "execution_count": 194,
     "metadata": {},
     "output_type": "execute_result"
    }
   ],
   "source": [
    "data.shape"
   ]
  },
  {
   "cell_type": "code",
   "execution_count": 195,
   "metadata": {},
   "outputs": [],
   "source": [
    "def check_borders(the_dqr, feature):\n",
    "    \"\"\"    \n",
    "    alt ve üst sınırların feature'da Aykırı Değer olduğunu inceleme. Kabul edilebilir bir sınır belirlemeye yarar.\n",
    "    : the_dqr: data quality reporttaki dataFrame\n",
    "    : feature\n",
    "    \"\"\"\n",
    "    results = list()\n",
    "    #Max değerin aykırı değer olup olmadığını kontrol etme\n",
    "    dqr_dict         = the_dqr.set_index(\"feature\").to_dict(\"index\")\n",
    "    max_outlier_prob = abs(abs(abs(dqr_dict[feature][\"3rd_q\"] - dqr_dict[feature][\"max\"]) \n",
    "                       - abs(dqr_dict[feature][\"3rd_q\"] - dqr_dict[feature][\"median\"]))) /(abs(dqr_dict[feature][\"max\"] - dqr_dict[feature][\"min\"])) * 100 \n",
    "        \n",
    "        \n",
    "    min_outlier_prob =  abs(abs(dqr_dict[feature][\"1st_q\"] - dqr_dict[feature][\"min\"]) -\n",
    "                            abs(dqr_dict[feature][\"1st_q\"] - dqr_dict[feature][\"median\"]))/(abs(dqr_dict[feature][\"max\"] - dqr_dict[feature][\"min\"])) * 100 \n",
    "    \n",
    "    results.append((feature, \"min_being_outlier\", min_outlier_prob))\n",
    "    results.append((feature, \"max_being_outlier\", max_outlier_prob))\n",
    "\n",
    "    return results"
   ]
  },
  {
   "cell_type": "markdown",
   "metadata": {},
   "source": [
    "Hatalar:\n"
   ]
  },
  {
   "cell_type": "code",
   "execution_count": 196,
   "metadata": {},
   "outputs": [
    {
     "data": {
      "text/plain": [
       "[('Age', 'min_being_outlier', 11.11111111111111),\n",
       " ('Age', 'max_being_outlier', 44.44444444444444)]"
      ]
     },
     "execution_count": 196,
     "metadata": {},
     "output_type": "execute_result"
    }
   ],
   "source": [
    "check_borders(data_Quality_report[\"continuous\"],\"Age\")\n",
    "\n",
    "#Fonksiyonu yazdık ama kullanıp kullanmayacağımızı yine Domain bilgisi sağlayacaktır."
   ]
  },
  {
   "cell_type": "code",
   "execution_count": 197,
   "metadata": {},
   "outputs": [],
   "source": [
    "def plotColumn(data,column):    \n",
    "    plot_color=\"#6DBD25\"\n",
    "    plt.figure(num=f'{column}')\n",
    "    data[column].plot.hist(color=plot_color)\n",
    "    plt.title(f\"Bar Plot for {column}\")\n",
    "    plt.xlabel(column)\n",
    "    plt.ylabel(\"Frequency\")\n",
    "\n",
    "    plt.xticks(rotation=45)\n",
    "    plt.show()"
   ]
  },
  {
   "cell_type": "code",
   "execution_count": 198,
   "metadata": {},
   "outputs": [
    {
     "data": {
      "image/png": "[encoded data removed]",
      "text/plain": [
       "<Figure size 640x480 with 1 Axes>"
      ]
     },
     "metadata": {},
     "output_type": "display_data"
    }
   ],
   "source": [
    "plotColumn(data=data,column=\"Age\")\n",
    "\n",
    "#Evet görüldüğü üzere, eğer 44 alırsak, burada veriyle oldukça oynamış olacağız ve sağlıksız bir veriyle karşı karşıya kalmış olacağız."
   ]
  },
  {
   "cell_type": "markdown",
   "metadata": {},
   "source": [
    "### Sınırlarla UĞRAŞMAK\n",
    "-Clamping Transformation\n",
    "\n",
    "-Removing\n"
   ]
  },
  {
   "cell_type": "code",
   "execution_count": 199,
   "metadata": {},
   "outputs": [],
   "source": [
    "def clamp_transformation(data_df, feature, bounds=None, verbose=True):\n",
    "    \"\"\"\n",
    "    Performs clamp transformation. When bounds are set, the transformation uses\n",
    "    user-defined bounds; otherwise, it will automatically decide the boundaries.\n",
    "    \n",
    "    :param data_df: pandas.DataFrame\n",
    "    :param feature: str, the column name in data_df to be transformed\n",
    "    :param bounds: tuple, optional (lower_bound, upper_bound)\n",
    "    :param verbose: bool, whether to print the lower and upper bounds\n",
    "    \n",
    "    Note: If bounds are not provided, the function uses interquartile range to determine\n",
    "    the lower and upper bounds.\n",
    "    \"\"\"\n",
    "    def _transform(value, _lower_bound, _upper_bound):\n",
    "        if value < _lower_bound:\n",
    "            return _lower_bound\n",
    "        elif value > _upper_bound:\n",
    "            return _upper_bound\n",
    "        else:\n",
    "            return value\n",
    "\n",
    "    if bounds is None:\n",
    "        dqr_dict = featureWise_dqr(data_df[feature], feature, \"continuous\")\n",
    "        interquartile_range = dqr_dict[\"3rd_q\"] - dqr_dict[\"1st_q\"]\n",
    "        lower_bound = dqr_dict[\"1st_q\"] - 1.5 * interquartile_range\n",
    "        upper_bound = dqr_dict[\"3rd_q\"] + 1.5 * interquartile_range\n",
    "    else:\n",
    "        lower_bound = bounds[0]\n",
    "        upper_bound = bounds[1]\n",
    "\n",
    "    if verbose:\n",
    "        print(\"** Lower bound set to {}, Upper bound set to {}\".format(lower_bound, upper_bound))\n",
    "\n",
    "    data_df[feature] = data_df[feature].apply(lambda x: _transform(x, lower_bound, upper_bound))\n",
    "\n",
    "    return data_df[feature]"
   ]
  },
  {
   "cell_type": "code",
   "execution_count": 200,
   "metadata": {},
   "outputs": [
    {
     "data": {
      "text/html": [
       "<div>\n",
       "<style scoped>\n",
       "    .dataframe tbody tr th:only-of-type {\n",
       "        vertical-align: middle;\n",
       "    }\n",
       "\n",
       "    .dataframe tbody tr th {\n",
       "        vertical-align: top;\n",
       "    }\n",
       "\n",
       "    .dataframe thead th {\n",
       "        text-align: right;\n",
       "    }\n",
       "</style>\n",
       "<table border=\"1\" class=\"dataframe\">\n",
       "  <thead>\n",
       "    <tr style=\"text-align: right;\">\n",
       "      <th>feature</th>\n",
       "      <th>Age</th>\n",
       "      <th>Positive Feedback Count</th>\n",
       "    </tr>\n",
       "  </thead>\n",
       "  <tbody>\n",
       "    <tr>\n",
       "      <th>missing_percent</th>\n",
       "      <td>0.0</td>\n",
       "      <td>0.0</td>\n",
       "    </tr>\n",
       "    <tr>\n",
       "      <th>cardinality</th>\n",
       "      <td>77</td>\n",
       "      <td>82</td>\n",
       "    </tr>\n",
       "    <tr>\n",
       "      <th>min</th>\n",
       "      <td>18</td>\n",
       "      <td>0</td>\n",
       "    </tr>\n",
       "    <tr>\n",
       "      <th>1st_q</th>\n",
       "      <td>34.0</td>\n",
       "      <td>0.0</td>\n",
       "    </tr>\n",
       "    <tr>\n",
       "      <th>mean</th>\n",
       "      <td>43.2</td>\n",
       "      <td>2.54</td>\n",
       "    </tr>\n",
       "    <tr>\n",
       "      <th>median</th>\n",
       "      <td>41.0</td>\n",
       "      <td>1.0</td>\n",
       "    </tr>\n",
       "    <tr>\n",
       "      <th>3rd_q</th>\n",
       "      <td>52.0</td>\n",
       "      <td>3.0</td>\n",
       "    </tr>\n",
       "    <tr>\n",
       "      <th>max</th>\n",
       "      <td>99</td>\n",
       "      <td>122</td>\n",
       "    </tr>\n",
       "    <tr>\n",
       "      <th>std</th>\n",
       "      <td>12.28</td>\n",
       "      <td>5.7</td>\n",
       "    </tr>\n",
       "  </tbody>\n",
       "</table>\n",
       "</div>"
      ],
      "text/plain": [
       "feature            Age Positive Feedback Count\n",
       "missing_percent    0.0                     0.0\n",
       "cardinality         77                      82\n",
       "min                 18                       0\n",
       "1st_q             34.0                     0.0\n",
       "mean              43.2                    2.54\n",
       "median            41.0                     1.0\n",
       "3rd_q             52.0                     3.0\n",
       "max                 99                     122\n",
       "std              12.28                     5.7"
      ]
     },
     "execution_count": 200,
     "metadata": {},
     "output_type": "execute_result"
    }
   ],
   "source": [
    "data_continuous.reset_index(drop=True, inplace=True)\n",
    "\n",
    "# Transpose the DataFrame\n",
    "transposed_df = data_continuous.T\n",
    "\n",
    "# Set the first row as column headers\n",
    "transposed_df.columns = transposed_df.iloc[0]\n",
    "\n",
    "# Drop the first row (which is now duplicated as column headers)\n",
    "transposed_df.drop(transposed_df.index[0], inplace=True)\n",
    "\n",
    "# Now the DataFrame has \"Age\" and \"Positive Feedback Count\" as column headers\n",
    "transposed_df"
   ]
  },
  {
   "cell_type": "code",
   "execution_count": 201,
   "metadata": {},
   "outputs": [
    {
     "name": "stdout",
     "output_type": "stream",
     "text": [
      "continuous değerler hesaplanıyor ...\n",
      "** Lower bound set to -33.0, Upper bound set to 103.0\n"
     ]
    },
    {
     "data": {
      "text/plain": [
       "missing_percent     0.00\n",
       "cardinality        77.00\n",
       "min                18.00\n",
       "1st_q              34.00\n",
       "mean               43.20\n",
       "median             41.00\n",
       "3rd_q              52.00\n",
       "max                99.00\n",
       "std                12.28\n",
       "Name: Age, dtype: float64"
      ]
     },
     "execution_count": 201,
     "metadata": {},
     "output_type": "execute_result"
    }
   ],
   "source": [
    "x=clamp_transformation(transposed_df,\"Age\",verbose=True)\n",
    "x"
   ]
  },
  {
   "cell_type": "code",
   "execution_count": 202,
   "metadata": {},
   "outputs": [
    {
     "name": "stdout",
     "output_type": "stream",
     "text": [
      "** Lower bound set to 0, Upper bound set to 70\n"
     ]
    },
    {
     "data": {
      "text/plain": [
       "missing_percent     0.00\n",
       "cardinality        70.00\n",
       "min                18.00\n",
       "1st_q              34.00\n",
       "mean               43.20\n",
       "median             41.00\n",
       "3rd_q              52.00\n",
       "max                70.00\n",
       "std                12.28\n",
       "Name: Age, dtype: float64"
      ]
     },
     "execution_count": 202,
     "metadata": {},
     "output_type": "execute_result"
    }
   ],
   "source": [
    "#Kendi verdiği değer saçmaladı o yüzden insiyatif alıp biz kendimiz ayarladık.\n",
    "\n",
    "clamp_transformation(transposed_df,\"Age\",bounds=(0,70))"
   ]
  },
  {
   "cell_type": "code",
   "execution_count": 203,
   "metadata": {},
   "outputs": [
    {
     "data": {
      "text/html": [
       "<div>\n",
       "<style scoped>\n",
       "    .dataframe tbody tr th:only-of-type {\n",
       "        vertical-align: middle;\n",
       "    }\n",
       "\n",
       "    .dataframe tbody tr th {\n",
       "        vertical-align: top;\n",
       "    }\n",
       "\n",
       "    .dataframe thead th {\n",
       "        text-align: right;\n",
       "    }\n",
       "</style>\n",
       "<table border=\"1\" class=\"dataframe\">\n",
       "  <thead>\n",
       "    <tr style=\"text-align: right;\">\n",
       "      <th>feature</th>\n",
       "      <th>Age</th>\n",
       "      <th>Positive Feedback Count</th>\n",
       "    </tr>\n",
       "  </thead>\n",
       "  <tbody>\n",
       "    <tr>\n",
       "      <th>missing_percent</th>\n",
       "      <td>0.00</td>\n",
       "      <td>0.0</td>\n",
       "    </tr>\n",
       "    <tr>\n",
       "      <th>cardinality</th>\n",
       "      <td>70.00</td>\n",
       "      <td>82</td>\n",
       "    </tr>\n",
       "    <tr>\n",
       "      <th>min</th>\n",
       "      <td>18.00</td>\n",
       "      <td>0</td>\n",
       "    </tr>\n",
       "    <tr>\n",
       "      <th>1st_q</th>\n",
       "      <td>34.00</td>\n",
       "      <td>0.0</td>\n",
       "    </tr>\n",
       "    <tr>\n",
       "      <th>mean</th>\n",
       "      <td>43.20</td>\n",
       "      <td>2.54</td>\n",
       "    </tr>\n",
       "    <tr>\n",
       "      <th>median</th>\n",
       "      <td>41.00</td>\n",
       "      <td>1.0</td>\n",
       "    </tr>\n",
       "    <tr>\n",
       "      <th>3rd_q</th>\n",
       "      <td>52.00</td>\n",
       "      <td>3.0</td>\n",
       "    </tr>\n",
       "    <tr>\n",
       "      <th>max</th>\n",
       "      <td>70.00</td>\n",
       "      <td>122</td>\n",
       "    </tr>\n",
       "    <tr>\n",
       "      <th>std</th>\n",
       "      <td>12.28</td>\n",
       "      <td>5.7</td>\n",
       "    </tr>\n",
       "  </tbody>\n",
       "</table>\n",
       "</div>"
      ],
      "text/plain": [
       "feature            Age Positive Feedback Count\n",
       "missing_percent   0.00                     0.0\n",
       "cardinality      70.00                      82\n",
       "min              18.00                       0\n",
       "1st_q            34.00                     0.0\n",
       "mean             43.20                    2.54\n",
       "median           41.00                     1.0\n",
       "3rd_q            52.00                     3.0\n",
       "max              70.00                     122\n",
       "std              12.28                     5.7"
      ]
     },
     "execution_count": 203,
     "metadata": {},
     "output_type": "execute_result"
    }
   ],
   "source": [
    "transposed_df "
   ]
  },
  {
   "cell_type": "code",
   "execution_count": 204,
   "metadata": {},
   "outputs": [],
   "source": [
    "#Done!"
   ]
  }
 ],
 "metadata": {
  "kernelspec": {
   "display_name": "deeply",
   "language": "python",
   "name": "python3"
  },
  "language_info": {
   "codemirror_mode": {
    "name": "ipython",
    "version": 3
   },
   "file_extension": ".py",
   "mimetype": "text/x-python",
   "name": "python",
   "nbconvert_exporter": "python",
   "pygments_lexer": "ipython3",
   "version": "3.10.12"
  },
  "orig_nbformat": 4
 },
 "nbformat": 4,
 "nbformat_minor": 2
}
